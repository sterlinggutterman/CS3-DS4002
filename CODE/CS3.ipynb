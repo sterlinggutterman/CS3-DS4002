{
  "nbformat": 4,
  "nbformat_minor": 0,
  "metadata": {
    "colab": {
      "provenance": [],
      "authorship_tag": "ABX9TyP4kaW5IaJZTiDZ4CaCywwn",
      "include_colab_link": true
    },
    "kernelspec": {
      "name": "python3",
      "display_name": "Python 3"
    },
    "language_info": {
      "name": "python"
    }
  },
  "cells": [
    {
      "cell_type": "markdown",
      "metadata": {
        "id": "view-in-github",
        "colab_type": "text"
      },
      "source": [
        "<a href=\"https://colab.research.google.com/github/sterlinggutterman/CS3-DS4002/blob/main/CS3.ipynb\" target=\"_parent\"><img src=\"https://colab.research.google.com/assets/colab-badge.svg\" alt=\"Open In Colab\"/></a>"
      ]
    },
    {
      "cell_type": "markdown",
      "source": [
        "All code necessary for completing CS3."
      ],
      "metadata": {
        "id": "E77ZL3FvbyvO"
      }
    },
    {
      "cell_type": "markdown",
      "source": [
        "## Set Up"
      ],
      "metadata": {
        "id": "6c5pIswvxYbe"
      }
    },
    {
      "cell_type": "code",
      "source": [
        "! git clone https://github.com/sterlinggutterman/CS3-DS4002"
      ],
      "metadata": {
        "id": "tRamuRlGw3u_"
      },
      "execution_count": null,
      "outputs": []
    },
    {
      "cell_type": "code",
      "source": [
        "import numpy as np\n",
        "import pandas as pd\n",
        "import matplotlib.pyplot as plt\n",
        "import seaborn as sns"
      ],
      "metadata": {
        "id": "NvOcw4CZyYX8"
      },
      "execution_count": 2,
      "outputs": []
    },
    {
      "cell_type": "code",
      "source": [
        "final_df = pd.read_csv('/content/CS3-DS4002/DATA/final_restaurant_df.csv')\n",
        "final_df.drop(['Unnamed: 0'], axis = 1, inplace=True)\n",
        "final_df.head()"
      ],
      "metadata": {
        "id": "1d9NFXThySq-"
      },
      "execution_count": null,
      "outputs": []
    },
    {
      "cell_type": "markdown",
      "source": [
        "## EDA"
      ],
      "metadata": {
        "id": "9p8CroW3xaDg"
      }
    },
    {
      "cell_type": "code",
      "source": [
        "# dimensions\n",
        "print(final_df.shape,'\\n')\n",
        "# observations\n",
        "print(final_df.dtypes, '\\n')\n",
        "# variables\n",
        "print(final_df.columns,'\\n')\n",
        "# quick view\n",
        "final_df.head()"
      ],
      "metadata": {
        "id": "XSLNVOEVyj3y"
      },
      "execution_count": null,
      "outputs": []
    },
    {
      "cell_type": "code",
      "source": [
        "final_df['Rating'].plot(kind='hist', bins=20, title='Rating')"
      ],
      "metadata": {
        "id": "AvgOfsyjyxyE"
      },
      "execution_count": null,
      "outputs": []
    },
    {
      "cell_type": "code",
      "execution_count": null,
      "metadata": {
        "id": "ayk6KK87vwxV"
      },
      "outputs": [],
      "source": [
        "# rating by restaurant\n",
        "final_df = final_df.reset_index(drop=True)\n",
        "plt.figure(figsize=(10, 6))\n",
        "sns.boxplot(x='Restaurant', y='Rating', data=final_df)\n",
        "plt.title('Rating Distribution by Restaurant')\n",
        "plt.xlabel('Restaurant')\n",
        "plt.ylabel('Rating')\n",
        "plt.xticks(rotation=45, ha='right')\n",
        "plt.show()"
      ]
    },
    {
      "cell_type": "code",
      "source": [
        "# reviews by day of week\n",
        "final_df['Date'] = pd.to_datetime(final_df['Date'], errors='coerce', format='mixed')\n",
        "final_df['DayOfWeek'] = final_df['Date'].dt.day_name()\n",
        "day_counts = final_df['DayOfWeek'].value_counts()\n",
        "\n",
        "plt.figure(figsize=(8,5))\n",
        "sns.barplot(x=day_counts.index, y=day_counts.values, order=['Monday', 'Tuesday', 'Wednesday', 'Thursday', 'Friday', 'Saturday', 'Sunday'])\n",
        "plt.title('Number of Reviews by Day of the Week')\n",
        "plt.xlabel('Day of the Week')\n",
        "plt.ylabel('Review Count')\n",
        "plt.xticks(rotation=45)\n",
        "plt.show()"
      ],
      "metadata": {
        "id": "MMU2RYbey8c3"
      },
      "execution_count": null,
      "outputs": []
    },
    {
      "cell_type": "code",
      "source": [
        "# rating over time\n",
        "avg_rating_per_month = final_df.groupby(final_df['Date'].dt.to_period('Y'))['Rating'].mean()\n",
        "\n",
        "plt.figure(figsize=(12,5))\n",
        "avg_rating_per_month.plot(kind='line', marker='o', title='Average Rating Over Time')\n",
        "plt.xlabel('Month')\n",
        "plt.ylabel('Average Rating')\n",
        "plt.show()"
      ],
      "metadata": {
        "id": "EJ7vcgKIzGBG"
      },
      "execution_count": null,
      "outputs": []
    },
    {
      "cell_type": "code",
      "source": [
        "# rating by year\n",
        "avg_rating_per_year = final_df.groupby(final_df['Date'].dt.to_period('Y'))['Rating'].mean()\n",
        "\n",
        "plt.figure(figsize=(12,5))\n",
        "avg_rating_per_month.plot(kind='bar')\n",
        "plt.title('Average Rating by Year')\n",
        "plt.xlabel('Year')\n",
        "plt.ylabel('Average Rating')\n",
        "plt.show()"
      ],
      "metadata": {
        "id": "SkxJXgiMzLIN"
      },
      "execution_count": null,
      "outputs": []
    },
    {
      "cell_type": "code",
      "source": [
        "# rating by month\n",
        "avg_rating_per_month = final_df.groupby(final_df['Date'].dt.month)['Rating'].mean()\n",
        "\n",
        "# Plot as a bar chart\n",
        "plt.figure(figsize=(12,5))\n",
        "avg_rating_per_month.plot(kind='bar')\n",
        "plt.xlabel('Month')\n",
        "plt.ylabel('Average Rating')\n",
        "plt.title('Average Rating by Month')\n",
        "plt.show()"
      ],
      "metadata": {
        "id": "lWKqaZCezXhe"
      },
      "execution_count": null,
      "outputs": []
    },
    {
      "cell_type": "code",
      "source": [
        "# sentiment\n",
        "avg_rating_by_restaurant = final_df.groupby(final_df['Restaurant'])['Rating'].mean().sort_values(ascending=False)\n",
        "avg_sentiment_by_restaurant = final_df.groupby(final_df['Restaurant'])['sentiment'].mean().sort_values(ascending=False)\n",
        "\n",
        "from IPython.display import display_html\n",
        "\n",
        "html1 = avg_rating_by_restaurant.to_frame().to_html()\n",
        "html2 = avg_sentiment_by_restaurant.to_frame().to_html()\n",
        "\n",
        "html_side_by_side = f\"\"\"\n",
        "        {html1}\n",
        "        {html2}\n",
        "\"\"\"\n",
        "\n",
        "display_html(html_side_by_side, raw=True)"
      ],
      "metadata": {
        "id": "rc6dEKzSzfvg"
      },
      "execution_count": null,
      "outputs": []
    },
    {
      "cell_type": "code",
      "source": [
        "# sentiment by restaurant\n",
        "print(avg_sentiment_by_restaurant)"
      ],
      "metadata": {
        "id": "LLBbgUWDzlsl"
      },
      "execution_count": null,
      "outputs": []
    },
    {
      "cell_type": "code",
      "source": [
        "# sentiment vs. rating\n",
        "final_df.groupby(final_df['Rating'])['sentiment'].mean()"
      ],
      "metadata": {
        "id": "fEzFAz4gzpUv"
      },
      "execution_count": null,
      "outputs": []
    },
    {
      "cell_type": "code",
      "source": [
        "# sentiment correlations\n",
        "sentiment_rating = final_df['sentiment'].corr(final_df['Rating'])\n",
        "sentiment_number = final_df['sentiment'].corr(final_df['Author Reviews'])\n",
        "rating_number = final_df['Rating'].corr(final_df['Author Reviews'])\n",
        "correlation = pd.DataFrame({'Feature': ['Sentiment vs Rating', 'Sentiment vs Number of Reviews', 'Rating vs Number of Reviews'],\n",
        "                            'Correlaltion': [sentiment_rating, sentiment_number, rating_number]})\n",
        "correlation"
      ],
      "metadata": {
        "id": "Ox6cepfEzwdF"
      },
      "execution_count": null,
      "outputs": []
    },
    {
      "cell_type": "code",
      "source": [
        "# violin plot\n",
        "sns.violinplot(x='sentiment', y='Rating', data=final_df, orient='h').invert_yaxis()\n",
        "plt.show()"
      ],
      "metadata": {
        "id": "djo17xMjz99M"
      },
      "execution_count": null,
      "outputs": []
    },
    {
      "cell_type": "markdown",
      "source": [
        "## Regression"
      ],
      "metadata": {
        "id": "NUHaDRLexjtL"
      }
    },
    {
      "cell_type": "code",
      "source": [
        "import statsmodels.api as sm\n",
        "\n",
        "# regression analysis\n",
        "avg_rating_by_restaurant = final_df.groupby(final_df['Restaurant'])['Rating'].mean()\n",
        "avg_sentiment_by_restaurant = final_df.groupby(final_df['Restaurant'])['sentiment'].mean()\n",
        "avg_df = pd.concat([avg_rating_by_restaurant, avg_sentiment_by_restaurant], axis=1)\n",
        "avg_df.columns = ['avg_rating', 'avg_sentiment']\n",
        "\n",
        "x = avg_df['avg_sentiment'].values.reshape(-1, 1)\n",
        "y = avg_df['avg_rating'].values.reshape(-1, 1)\n",
        "\n",
        "X = sm.add_constant(x)\n",
        "model = sm.OLS(y, X).fit()\n",
        "print(model.summary())\n",
        "\n",
        "beta0 = model.params[0]\n",
        "beta1 = model.params[1]\n",
        "yhat = beta0 + beta1 * x"
      ],
      "metadata": {
        "id": "1_CtYZbLx5L2"
      },
      "execution_count": null,
      "outputs": []
    },
    {
      "cell_type": "code",
      "source": [
        "# regression plot\n",
        "plt.scatter(avg_sentiment_by_restaurant, avg_rating_by_restaurant, label='Data')\n",
        "plt.xlabel('Average Sentiment')\n",
        "plt.ylabel('Average Rating')\n",
        "plt.title('Average Sentiment vs Average Rating')\n",
        "plt.plot(x,yhat,label='Regression Line')\n",
        "plt.legend(loc='lower right')\n",
        "plt.show()"
      ],
      "metadata": {
        "id": "zF9IBzI2x4ro"
      },
      "execution_count": null,
      "outputs": []
    },
    {
      "cell_type": "markdown",
      "source": [
        "## Word Sentiment"
      ],
      "metadata": {
        "id": "UDhMwlUbdV54"
      }
    },
    {
      "cell_type": "code",
      "source": [
        "# import new packages\n",
        "!pip install nltk\n",
        "!pip install contractions\n",
        "import nltk\n",
        "\n",
        "nltk.download('punkt_tab')\n",
        "nltk.download(\"vader_lexicon\")\n",
        "\n",
        "from nltk.tokenize import word_tokenize\n",
        "from collections import Counter\n",
        "from nltk.corpus import stopwords\n",
        "import contractions"
      ],
      "metadata": {
        "id": "xO7sZiYEyFsK"
      },
      "execution_count": null,
      "outputs": []
    },
    {
      "cell_type": "code",
      "source": [
        "# organizing reviews into positive and negative categories\n",
        "positive_reviews = pd.DataFrame(final_df[final_df['sentiment'] > 0.05])\n",
        "negative_reviews = pd.DataFrame(final_df[final_df['sentiment'] < -0.05])"
      ],
      "metadata": {
        "id": "PNRa-S8950Lo"
      },
      "execution_count": 17,
      "outputs": []
    },
    {
      "cell_type": "code",
      "source": [
        "# eliminate filler words (and, my, i, but, etc.) from reviews\n",
        "nltk.download('stopwords')\n",
        "stop_words = set(stopwords.words('english'))"
      ],
      "metadata": {
        "id": "-1Dj4jI9501p"
      },
      "execution_count": null,
      "outputs": []
    },
    {
      "cell_type": "code",
      "source": [
        "# fix contractions (don't, etc.)\n",
        "def fix_contractions(text):\n",
        "  text = str(text)\n",
        "  return contractions.fix(text)"
      ],
      "metadata": {
        "id": "NnVBdZ7L529S"
      },
      "execution_count": 19,
      "outputs": []
    },
    {
      "cell_type": "code",
      "source": [
        "# update dataframes\n",
        "positive_reviews['Message'] = positive_reviews['Message'].apply(fix_contractions)\n",
        "negative_reviews['Message'] = negative_reviews['Message'].apply(fix_contractions)"
      ],
      "metadata": {
        "id": "bzw6CPZO55eI"
      },
      "execution_count": 20,
      "outputs": []
    },
    {
      "cell_type": "code",
      "source": [
        "# extract most popular words\n",
        "def words(reviews, n=25):\n",
        "  all_words = []\n",
        "  for review in reviews:\n",
        "    words = word_tokenize(review.lower())\n",
        "    filtered_words = [\n",
        "        word for word in words if word not in stop_words\n",
        "        and len(word) > 2]\n",
        "    all_words.extend(filtered_words)\n",
        "\n",
        "  common_words = Counter(all_words).most_common(n)\n",
        "  return common_words"
      ],
      "metadata": {
        "id": "XcC3sGFG57T7"
      },
      "execution_count": 21,
      "outputs": []
    },
    {
      "cell_type": "code",
      "source": [
        "# create positive and negative key word lists of 25 words\n",
        "positive_words = words(positive_reviews['Message'], n=25)\n",
        "negative_words = words(negative_reviews['Message'], n=25)"
      ],
      "metadata": {
        "id": "MIjp0Fl758xE"
      },
      "execution_count": 22,
      "outputs": []
    },
    {
      "cell_type": "code",
      "source": [
        "# show new word lists\n",
        "print(\"common positive words:\", positive_words)\n",
        "print(\"common negative words:\", negative_words)"
      ],
      "metadata": {
        "id": "CiGaU2-25-IR"
      },
      "execution_count": null,
      "outputs": []
    },
    {
      "cell_type": "code",
      "source": [
        "# visualize as word cloud\n",
        "from wordcloud import WordCloud\n",
        "\n",
        "def wordcloud(words):\n",
        "  words = dict(words)\n",
        "  image = WordCloud(background_color='white').generate_from_frequencies(words)\n",
        "  plt.imshow(image)\n",
        "  plt.axis('off')\n",
        "  plt.show()"
      ],
      "metadata": {
        "id": "ziv6XZ296Ae3"
      },
      "execution_count": 23,
      "outputs": []
    },
    {
      "cell_type": "code",
      "source": [
        "# positive reviews\n",
        "wordcloud(positive_words)"
      ],
      "metadata": {
        "id": "yoW30PCY6FjJ"
      },
      "execution_count": null,
      "outputs": []
    },
    {
      "cell_type": "code",
      "source": [
        "# negative reviews\n",
        "wordcloud(negative_words)"
      ],
      "metadata": {
        "id": "4Wy7Vdau6G8j"
      },
      "execution_count": null,
      "outputs": []
    }
  ]
}
